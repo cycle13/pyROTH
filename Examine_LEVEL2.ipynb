{
 "cells": [
  {
   "cell_type": "code",
   "execution_count": 79,
   "metadata": {
    "collapsed": false
   },
   "outputs": [],
   "source": [
    "radar = pyart.io.read('KDDC20160524_181120_V06.gz')\n",
    "radar = pyart.io.read('KDDC20160525_001527_V06.gz')\n",
    "\n",
    "field = 'velocity'\n",
    "field = 'reflectivity'\n",
    "\n",
    "field = 'differential_phase'\n",
    "field = \"spectrum_width\"\n",
    "field = 'differential_reflectivity'\n",
    "field = 'cross_correlation_ratio'\n",
    "\n",
    "field = 'reflectivity'\n",
    "field = 'velocity'"
   ]
  },
  {
   "cell_type": "code",
   "execution_count": 2,
   "metadata": {
    "collapsed": true
   },
   "outputs": [],
   "source": [
    "display = pyart.graph.RadarDisplay(radar)"
   ]
  },
  {
   "cell_type": "code",
   "execution_count": 69,
   "metadata": {
    "collapsed": false
   },
   "outputs": [
    {
     "data": {
      "text/plain": [
       "{'Conventions': 'CF/Radial instrument_parameters',\n",
       " 'comment': '',\n",
       " 'history': '',\n",
       " 'institution': '',\n",
       " 'instrument_name': '',\n",
       " 'original_container': 'NEXRAD Level II',\n",
       " 'references': '',\n",
       " 'source': '',\n",
       " 'title': '',\n",
       " 'vcp_pattern': 32,\n",
       " 'version': '1.3'}"
      ]
     },
     "execution_count": 69,
     "metadata": {},
     "output_type": "execute_result"
    }
   ],
   "source": [
    "radar.metadata "
   ]
  },
  {
   "cell_type": "code",
   "execution_count": 97,
   "metadata": {
    "collapsed": false
   },
   "outputs": [
    {
     "name": "stdout",
     "output_type": "stream",
     "text": [
      "[(0, 1), (2, 3), (4, 5), (6, 7), (8, 8), (9, 9), (10, 10), (12, 13), (13, 13), (14, 14), (15, 15), (16, 16), (18, 19), (19, 19), (20, 20), (21, 21), (22, 22)]\n"
     ]
    }
   ],
   "source": [
    "LookUp = []\n",
    "iter_obj = radar.iter_elevation()\n",
    "for n, elev in enumerate(iter_obj):\n",
    "    if elev.shape[0] == 720:\n",
    "        if np.mod(n,2) == 0:\n",
    "            LookUp.append((n, n+1))\n",
    "    else:\n",
    "        LookUp.append((n,n))\n",
    "   \n",
    "print LookUp"
   ]
  },
  {
   "cell_type": "code",
   "execution_count": 109,
   "metadata": {
    "collapsed": false
   },
   "outputs": [
    {
     "name": "stdout",
     "output_type": "stream",
     "text": [
      "DBZ index:  0   VEL index:  1\n",
      "REF  :  332431\n",
      "VEL  :  251063\n",
      "DBZ index:  2   VEL index:  3\n",
      "REF  :  315240\n",
      "VEL  :  253457\n",
      "DBZ index:  4   VEL index:  5\n",
      "REF  :  305960\n",
      "VEL  :  262746\n",
      "DBZ index:  6   VEL index:  7\n",
      "REF  :  331457\n",
      "VEL  :  253348\n",
      "DBZ index:  8   VEL index:  8\n",
      "REF  :  148366\n",
      "VEL  :  113379\n",
      "DBZ index:  9   VEL index:  9\n",
      "REF  :  154247\n",
      "VEL  :  112494\n",
      "DBZ index:  10   VEL index:  10\n",
      "REF  :  153524\n",
      "VEL  :  115951\n",
      "DBZ index:  12   VEL index:  13\n",
      "REF  :  278332\n",
      "VEL  :  123733\n",
      "DBZ index:  13   VEL index:  13\n",
      "REF  :  147968\n",
      "VEL  :  123733\n",
      "DBZ index:  14   VEL index:  14\n",
      "REF  :  139942\n",
      "VEL  :  129418\n",
      "DBZ index:  15   VEL index:  15\n",
      "REF  :  126312\n",
      "VEL  :  124146\n",
      "DBZ index:  16   VEL index:  16\n",
      "REF  :  111502\n",
      "VEL  :  111500\n",
      "DBZ index:  18   VEL index:  19\n",
      "REF  :  275815\n",
      "VEL  :  98035\n",
      "DBZ index:  19   VEL index:  19\n",
      "REF  :  98039\n",
      "VEL  :  98035\n",
      "DBZ index:  20   VEL index:  20\n",
      "REF  :  82441\n",
      "VEL  :  82438\n",
      "DBZ index:  21   VEL index:  21\n",
      "REF  :  69319\n",
      "VEL  :  69316\n",
      "DBZ index:  22   VEL index:  22\n",
      "REF  :  57523\n",
      "VEL  :  57523\n"
     ]
    }
   ],
   "source": [
    "for n, m in LookUp:\n",
    "    begin, end = radar.get_start_end(n)\n",
    "    dbz = radar.get_field(n, 'reflectivity')\n",
    "    vel = radar.get_field(m, 'velocity')\n",
    "    print(\"DBZ index:  %d   VEL index:  %d\" % (n,m))\n",
    "    print(\"REF  :  %d\" % (np.sum(dbz.mask == False)))\n",
    "    print(\"VEL  :  %d\" % (np.sum(vel.mask == False)))\n",
    "\n"
   ]
  },
  {
   "cell_type": "code",
   "execution_count": 105,
   "metadata": {
    "collapsed": false
   },
   "outputs": [
    {
     "name": "stdout",
     "output_type": "stream",
     "text": [
      "0.455413\n",
      "velocity  :  -64.000000  -64.000000\n",
      "velocity  :  1832\n",
      "velocity  :  0\n",
      "0.483398\n",
      "velocity  :  26.000000  -64.500000\n",
      "velocity  :  1096\n",
      "velocity  :  736\n",
      "0.850569\n",
      "velocity  :  -64.000000  -64.000000\n",
      "velocity  :  1832\n",
      "velocity  :  0\n",
      "0.878906\n",
      "velocity  :  16.500000  -64.500000\n",
      "velocity  :  1448\n",
      "velocity  :  384\n",
      "1.29058\n",
      "velocity  :  -64.000000  -64.000000\n",
      "velocity  :  1832\n",
      "velocity  :  0\n",
      "1.31836\n",
      "velocity  :  10.500000  -64.500000\n",
      "velocity  :  1487\n",
      "velocity  :  345\n",
      "0.456246\n",
      "velocity  :  -64.000000  -64.000000\n",
      "velocity  :  1832\n",
      "velocity  :  0\n",
      "0.483398\n",
      "velocity  :  32.000000  -64.500000\n",
      "velocity  :  1531\n",
      "velocity  :  301\n",
      "1.77139\n",
      "velocity  :  -5.500000  -64.500000\n",
      "velocity  :  1672\n",
      "velocity  :  160\n",
      "2.38911\n",
      "velocity  :  4.000000  -64.500000\n",
      "velocity  :  1512\n",
      "velocity  :  320\n",
      "3.10626\n",
      "velocity  :  -2.500000  -64.500000\n",
      "velocity  :  1431\n",
      "velocity  :  401\n",
      "0.486114\n",
      "velocity  :  -64.000000  -64.000000\n",
      "velocity  :  1832\n",
      "velocity  :  0\n",
      "0.463156\n",
      "velocity  :  23.500000  -64.500000\n",
      "velocity  :  1487\n",
      "velocity  :  345\n",
      "3.98753\n",
      "velocity  :  19.000000  -64.500000\n",
      "velocity  :  1661\n",
      "velocity  :  171\n",
      "5.10689\n",
      "velocity  :  30.000000  -64.500000\n",
      "velocity  :  1675\n",
      "velocity  :  157\n",
      "6.38055\n",
      "velocity  :  32.500000  -64.500000\n",
      "velocity  :  1423\n",
      "velocity  :  409\n",
      "7.96184\n",
      "velocity  :  28.000000  -64.500000\n",
      "velocity  :  1442\n",
      "velocity  :  390\n",
      "0.503996\n",
      "velocity  :  -64.000000  -64.000000\n",
      "velocity  :  1832\n",
      "velocity  :  0\n",
      "0.445664\n",
      "velocity  :  30.000000  -64.500000\n",
      "velocity  :  1407\n",
      "velocity  :  425\n",
      "10.0201\n",
      "velocity  :  30.000000  -64.500000\n",
      "velocity  :  1587\n",
      "velocity  :  245\n",
      "12.4651\n",
      "velocity  :  13.000000  -64.500000\n",
      "velocity  :  1620\n",
      "velocity  :  212\n",
      "15.6089\n",
      "velocity  :  7.500000  -64.500000\n",
      "velocity  :  1666\n",
      "velocity  :  166\n",
      "19.4838\n",
      "velocity  :  29.500000  -64.500000\n",
      "velocity  :  1669\n",
      "velocity  :  163\n"
     ]
    }
   ],
   "source": [
    "for n, sweep in enumerate(radar.iter_field(field)):\n",
    "    begin, end = radar.get_start_end(n)\n",
    "    print radar.elevation['data'][begin:end].mean()\n",
    "    print(\"%s  :  %f  %f\" % (field, sweep.data[n].max(), sweep.data[n].min()))\n",
    "    print(\"%s  :  %d\" % (field, np.sum(sweep.mask[n] == True)))\n",
    "    print(\"%s  :  %d\" % (field, np.sum(sweep.mask[n] == False)))\n"
   ]
  },
  {
   "cell_type": "code",
   "execution_count": 106,
   "metadata": {
    "collapsed": true
   },
   "outputs": [],
   "source": [
    "radar.get_field?"
   ]
  },
  {
   "cell_type": "code",
   "execution_count": null,
   "metadata": {
    "collapsed": true
   },
   "outputs": [],
   "source": []
  }
 ],
 "metadata": {
  "kernelspec": {
   "display_name": "Python 2",
   "language": "python",
   "name": "python2"
  },
  "language_info": {
   "codemirror_mode": {
    "name": "ipython",
    "version": 2
   },
   "file_extension": ".py",
   "mimetype": "text/x-python",
   "name": "python",
   "nbconvert_exporter": "python",
   "pygments_lexer": "ipython2",
   "version": "2.7.13"
  }
 },
 "nbformat": 4,
 "nbformat_minor": 2
}
